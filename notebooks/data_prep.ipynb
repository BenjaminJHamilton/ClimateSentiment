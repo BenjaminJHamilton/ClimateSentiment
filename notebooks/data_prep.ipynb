{
 "cells": [
  {
   "cell_type": "code",
   "execution_count": 2,
   "id": "f4b1428d",
   "metadata": {},
   "outputs": [],
   "source": [
    "import sys\n",
    "sys.path.append(\"./src\")"
   ]
  },
  {
   "cell_type": "code",
   "execution_count": null,
   "id": "97d79967",
   "metadata": {},
   "outputs": [],
   "source": [
    "from dotenv import load_dotenv\n",
    "import os\n",
    "\n",
    "from climatesentiment.data import stream_submissions\n",
    "\n"
   ]
  },
  {
   "cell_type": "code",
   "execution_count": null,
   "id": "34432b4f",
   "metadata": {},
   "outputs": [],
   "source": [
    "load_dotenv()\n",
    "\n",
    "filepath  = \"./data/reddit/submissions/RS_2023-01.zst\"\n",
    "\n",
    "posts = stream_submissions(\n",
    "    filepath=filepath,\n",
    ")\n",
    "\n",
    "for post in posts:\n",
    "    print(f\"Title: {post['title']}\")\n",
    "    print(f\"Score: {post['score']}\")\n",
    "    print(f\"Created at: {post['created_utc']}\")\n",
    "    print(\"Top Comments:\")\n",
    "    for comment in post['comments']:\n",
    "        print(f\"- {comment}\")\n",
    "    print(\"\\n\")"
   ]
  }
 ],
 "metadata": {
  "kernelspec": {
   "display_name": "climatesentiment",
   "language": "python",
   "name": "python3"
  },
  "language_info": {
   "codemirror_mode": {
    "name": "ipython",
    "version": 3
   },
   "file_extension": ".py",
   "mimetype": "text/x-python",
   "name": "python",
   "nbconvert_exporter": "python",
   "pygments_lexer": "ipython3",
   "version": "3.13.3"
  }
 },
 "nbformat": 4,
 "nbformat_minor": 5
}
